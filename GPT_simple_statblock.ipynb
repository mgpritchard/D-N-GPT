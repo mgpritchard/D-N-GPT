{
  "nbformat": 4,
  "nbformat_minor": 0,
  "metadata": {
    "colab": {
      "name": "GPT-simple-statblock.ipynb",
      "provenance": [],
      "include_colab_link": true
    },
    "kernelspec": {
      "name": "python3",
      "display_name": "Python 3"
    },
    "accelerator": "GPU"
  },
  "cells": [
    {
      "cell_type": "markdown",
      "metadata": {
        "id": "view-in-github",
        "colab_type": "text"
      },
      "source": [
        "<a href=\"https://colab.research.google.com/github/IsabelleBarrett/D-N-GPT/blob/main/GPT_simple_statblock.ipynb\" target=\"_parent\"><img src=\"https://colab.research.google.com/assets/colab-badge.svg\" alt=\"Open In Colab\"/></a>"
      ]
    },
    {
      "cell_type": "code",
      "metadata": {
        "id": "zn0MF_JnhaE3",
        "colab": {
          "base_uri": "https://localhost:8080/"
        },
        "outputId": "c3154366-396e-4d52-b316-84c0a9e16db6"
      },
      "source": [
        "%tensorflow_version 1.x\n",
        "!pip install -q gpt-2-simple\n",
        "import gpt_2_simple as gpt2\n",
        "from google.colab import files\n",
        "#drive.mount('/content/drive')\n",
        "#%cd /content/drive/MyDrive/Aston/AstonHack\n",
        "#gpt2.download_gpt2(model_name=\"355M\") #FIRST TIME ONLY\n",
        "gpt2.mount_gdrive()\n",
        "file_name = \"monster_data.txt\"\n",
        "#gpt2.copy_file_from_gdrive(file_name)\n",
        "#sess = gpt2.start_tf_sess()\n",
        "\n",
        "#gpt2.finetune(sess,              #tuning from fresh\n",
        " #             dataset=file_name,\n",
        "  #            model_name='355M',\n",
        "   #           steps=1000,\n",
        "    #          restore_from='fresh',\n",
        "     #         run_name='run1',\n",
        "      #        print_every=10,\n",
        "       #       sample_every=200,\n",
        "        #      save_every=500\n",
        "         #     )\n",
        "\n",
        "#gpt2.copy_checkpoint_to_gdrive(run_name='run1')\n",
        "gpt2.copy_checkpoint_from_gdrive(run_name='run1')\n",
        "#restart colab runtime to rerun:\n",
        "sess = gpt2.start_tf_sess()\n",
        "gpt2.load_gpt2(sess, run_name='run1')\n",
        "\n",
        "gpt2.generate(sess,           #generating1\n",
        "              length=400, #250\n",
        "              temperature=0.7, #0.35 is by-the-book #0.7 is good #1.4 is the sillyzone\n",
        "              prefix=\"Goose\",\n",
        "              nsamples=5,\n",
        "              batch_size=5\n",
        "              )\n",
        "\n",
        "#gpt2.finetune(sess,        #tuning from checkpoint\n",
        "#    dataset=file_name,\n",
        "#    model_name='355M',\n",
        "#    steps=1500, #initially 1000\n",
        "     #restore_from='fresh'\n",
        "#    print_every=50, #10\n",
        "#    sample_every=500, #200\n",
        "#    save_every=1000, #500\n",
        "#    checkpoint_dir='checkpoint',\n",
        "#    run_name='run1',\n",
        "#)\n",
        "#gpt2.copy_checkpoint_to_gdrive(run_name='run1')"
      ],
      "execution_count": null,
      "outputs": [
        {
          "output_type": "stream",
          "text": [
            "TensorFlow 1.x selected.\n",
            "WARNING:tensorflow:\n",
            "The TensorFlow contrib module will not be included in TensorFlow 2.0.\n",
            "For more information, please see:\n",
            "  * https://github.com/tensorflow/community/blob/master/rfcs/20180907-contrib-sunset.md\n",
            "  * https://github.com/tensorflow/addons\n",
            "  * https://github.com/tensorflow/io (for I/O related ops)\n",
            "If you depend on functionality not listed there, please file an issue.\n",
            "\n",
            "Drive already mounted at /content/drive; to attempt to forcibly remount, call drive.mount(\"/content/drive\", force_remount=True).\n",
            "Loading checkpoint checkpoint/run1/model-2500\n",
            "INFO:tensorflow:Restoring parameters from checkpoint/run1/model-2500\n",
            "COVID-19,(+4),10,(+0),19,(+4),6,(-2),12,(+1),7,(-2),nan,\"Perception +3, Stealth +5\",\"Darkvision 30 ft.,  Passive Perception 13\",The languages it knew in life,1/2 (100 XP),\"Consume Life. As a bonus action, the creature can spend 5 hit points to cause 5 (1d10) necrotic damage to a creature it can see within 5 feet of it. The target must succeed on a DC 13 Constitution saving throw against this magic or take 10 (3d6) necrotic damage on a failed save, and the creature can't regain hit points. The target can repeat the saving throw at the end of each of its turns, ending the effect on itself on a success. If a creature's saving throw is successful or the effect ends for it, the creature is immune to the ghastly ghastly's Stench for 1 hour or until it is destroyed. Turning Defiance. The ghastly ghastly has advantage on a DC 13 Strength saving throw if it has at least one of its hands in combat. If the ghastly ghastly has advantage on the saving throw, the creature is immune to the ghastly ghastly's Defiance for the next 24 hours. Screech (1/Day). The ghastly ghastly emits a horrific screech. Each creature within 20 feet of it that can hear it and that isn't a demon must succeed on a DC 13 Constitution saving throw or have its speed reduced to 0 until the end of the ghastly ghastly's next turn.\",nan,https://media-waterdeep.cursecdn.com/avatars/thumbnails/0/411/315/315/6362527824613615.jpeg,Ghastly,nan,nan,nan,nan\n",
            "\n",
            "====================\n",
            "COVID-19,(+4),10,(+0),19,(+4),6,(-2),12,(+1),7,(-2),nan,nan,Passive Perception 11,--,0 (10 XP),\"Charge. If the gnome moves at least 20 feet straight toward a target and then hits it with a weapon attack on the same turn, the target takes an extra 5 (2d4) bludgeoning damage. If the target is a creature, it must succeed on a DC 13 Strength saving throw or be knocked prone. If the target is killed by this damage, it is absorbed into the mouther. Blood Drain. Melee Weapon Attack: +2 to hit, reach 5 ft., one creature. Hit: 4 (1d4 + 2) piercing damage, and the target must succeed on a DC 9 Constitution saving throw or have its hit point maximum reduced by an amount equal to the damage taken. The target dies if this effect reduces its hit point maximum to 0.\",nan,https://media-waterdeep.cursecdn.com/avatars/thumbnails/0/245/315/315/6362527673059871983921.jpeg,nan,nan,nan,nan,nan\n",
            "Glabrezu,\"Large fiend, chaotic evil\",17 (Natural Armor),157 (15d10 + 75),40 ft. ,20,(+5),15,(+2),21,(+5),19,(+4),17,(+3),16,(+3),nan,nan,\"Darkvision 60 ft.,  Passive Perception 13\",Understands Infernal but can't speak it,5 (1,800 XP)\",\"Innate Spellcasting. The glabrezu's spellcasting ability is Intelligence (spell save DC 16, +8 to hit with spell attacks). The glabrezu can innately cast the following spells\n",
            "====================\n",
            "COVID-19,(+4),16,(+3),18,(+4),7,(-2),12,(+1),8,(-1),nan,Perception +3,\"Darkvision 60 ft.,  Passive Perception 13\",--,1/8 (25 XP),Keen Sight and Smell. The spider has advantage on Wisdom (Perception) checks that rely on sight or smell.,\"Bite. Melee Weapon Attack: +6 to hit, reach 5 ft., one creature. Hit: 7 (1d8 + 3) piercing damage, and the target must succeed on a DC 13 Strength saving throw or have its speed reduced to 0 until the end of the spider's next turn. On a reduced speed, the target can't use reactions, its speed is halved, and it can't make more than one attack on its turn. In addition, on a reduced speed, the target can't use any action, and it can't make more than one attack on its turn. These effects last for 1 minute, even if the target is poisoned or otherwise shielded.\",nan,https://media-waterdeep.cursecdn.com/avatars/thumbnails/0/243/315/315/6362527671226565532746.jpeg,nan,nan,nan,nan,nan\n",
            "Pit Fiend,\"Large fiend, lawful evil\",19 (Natural Armor),300 (24d10 + 168),\"30 ft. ,26,(+8),14,(+2),24,(+7),22,(+6),18,(+4),24,(+7),\"DEX +8, CON +13, WIS +10\",nan,\"Darkvision 120 ft.,  Passive Perception 14\",\"Infernal, Telepathy 120 ft.\",\"20 (25,000 XP)\",Fear Aura.incapacitatedfrightenedMagic Resistance.Magic Weapons.Innate\n",
            "====================\n",
            "COVID-19,(+4),32,(+7),16,(+3),10,(+0),12,(+1),15,(+2),\"CON +8, WIS +4, CHA +5\",nan,\"Darkvision 120 ft.,  Passive Perception 10\",Ignan,\"5 (1,800 XP)\",Ignorance. The djinni has disadvantage on any attack roll against a target more than 30 feet away.,\"Multiattack. The djinni makes three scimitar attacks. If it has a humanoid target, it can also use its Humongous Smash. Scimitar. Melee Weapon Attack: +9 to hit, reach 5 ft., one target. Hit: 12 (2d6 + 5) slashing damage. Smash. Melee Weapon Attack: +9 to hit, reach 5 ft., one target. Hit: 15 (2d10 + 5) bludgeoning damage. If the target is a creature, it must succeed on a DC 16 Strength saving throw or have its hit point maximum reduced by an amount equal to the damage taken. The target dies if this attack reduces its hit point maximum to 0. The reduction lasts until the end of the djinni's next turn. If the target dies, the djinni rolls randomly to determine its next target. If the target dies, the djinni gets another creature with it. Create Whirlwind. A 5-foot-radius, 30-foot-tall cylinder of swirling air magically forms on a point the djinni can see within 120 feet of it. The whirlwind lasts as long as the djinni maintains concentration (as if concentrating on a spell). Any creature but the djinni that enters the whirlwind must succeed on a DC 16 Strength saving throw or be restrained by it. The djinni can move the whirlwind up to 60 feet as an action, and creatures restrained by the whirlwind move with it. A creature can also use its\n",
            "====================\n",
            "COVID-19,(+4),5,(-3),nan,nan,Piercing,Fire,nan\n",
            "Gargoyle,\"Medium elemental, chaotic evil\",11 ,22 (5d8),\"30 ft., fly 60 ft. \",7,(-2),11,(+0),12,(+1),7,(-2),10,(+0),8,(-1),nan,nan,\"Darkvision 60 ft.,  Passive Perception 10\",Terran,2 (450 XP),\"False Appearance. While the gargoyle remains motionless, it is indistinguishable from an inanimate statue.\",\"Multiattack. The gargoyle makes two attacks: one with its bite and one with its claws. Bite. Melee Weapon Attack: +2 to hit, reach 5 ft., one target. Hit: 3 (1d6) piercing damage. Claws. Melee Weapon Attack: +2 to hit, reach 5 ft., one target. Hit: 3 (1d6) slashing damage.\",nan,https://media-waterdeep.cursecdn.com/avatars/thumbnails/0/381/315/315/636252786158646348.jpeg,Poison,\"Exhaustion, Petrified, Poisoned\",\"Bludgeoning, Piercing, and Slashing from Nonmagical Attacks that aren't Adamantine\",nan,nan\n",
            "Gelatinous Cube,\"Large ooze, unaligned\",6 ,84 (8d10 + 40),15 ft. ,14,(+2),3,(-4),20,(+5),1,(-5),6,(-2),1,(-5),nan,nan,\"Blindsight 60 ft.,  Passive Perception 8\",--,2 (450 XP),\"Ooze Cube. The cube takes up its entire space. Other creatures can enter the space, but a creature that does so is subjected to the cube's Engulf and has disadvantage on the\n",
            "====================\n"
          ],
          "name": "stdout"
        }
      ]
    }
  ]
}